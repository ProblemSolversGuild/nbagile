{
 "cells": [
  {
   "cell_type": "code",
   "execution_count": null,
   "metadata": {},
   "outputs": [],
   "source": [
    "# default_exp docstring"
   ]
  },
  {
   "cell_type": "markdown",
   "metadata": {},
   "source": [
    "# Exporting Docstrings\n",
    "\n",
    "> Converts `docment` docstrings to Numpy styled"
   ]
  },
  {
   "cell_type": "code",
   "execution_count": null,
   "metadata": {},
   "outputs": [],
   "source": [
    "#hide\n",
    "from nbdev.showdoc import *\n",
    "from fastcore.test import *"
   ]
  },
  {
   "cell_type": "markdown",
   "metadata": {},
   "source": [
    "The goal of this module is to take code that looks like the following:"
   ]
  },
  {
   "cell_type": "code",
   "execution_count": null,
   "metadata": {},
   "outputs": [],
   "source": [
    "def addition(\n",
    "    a:int, # The first number to add\n",
    "    b:int=2, # The second number to add\n",
    ") -> int: # The sum of a and b\n",
    "    \"Adds two numbers together\"\n",
    "    return a+b"
   ]
  },
  {
   "cell_type": "markdown",
   "metadata": {},
   "source": [
    "And convert it to be the following:"
   ]
  },
  {
   "cell_type": "code",
   "execution_count": null,
   "metadata": {},
   "outputs": [],
   "source": [
    "def addition(a,b) -> int:\n",
    "    \"\"\"Adds two numbers together\n",
    "    \n",
    "    Parameters\n",
    "    ---------\n",
    "    a : int\n",
    "        The first number to add\n",
    "    b : int\n",
    "        The second number to add\n",
    "        \n",
    "    Returns\n",
    "    -------\n",
    "    int\n",
    "        The sum of a and b\n",
    "    \"\"\"\n",
    "    return a + b"
   ]
  },
  {
   "cell_type": "code",
   "execution_count": null,
   "metadata": {},
   "outputs": [],
   "source": [
    "# TESTING CODE\n",
    "import nbdev.export as exp\n",
    "nb = exp.read_nb('99_test.ipynb')\n",
    "default = exp.find_default_export(nb['cells'])\n",
    "mod = exp.get_nbdev_module()\n",
    "exports = [exp.is_export(c, default) for c in nb['cells']]\n",
    "cells = [(i,c,e) for i,(c,e) in enumerate(zip(nb['cells'],exports)) if e is not None]\n",
    "flag_lines, code_lines = exp.split_flags_and_code(cells[0][1])\n",
    "code_lines = exp._deal_import(code_lines, 'docstring.py')"
   ]
  },
  {
   "cell_type": "code",
   "execution_count": null,
   "metadata": {},
   "outputs": [
    {
     "data": {
      "text/plain": [
       "['def addition(',\n",
       " '    a:int, # The first number to add',\n",
       " '    b:int, # The second number to add',\n",
       " ') -> int: # The sum of a and b',\n",
       " '    \"Adds two numbers together\"',\n",
       " '    return a+b']"
      ]
     },
     "execution_count": null,
     "metadata": {},
     "output_type": "execute_result"
    }
   ],
   "source": [
    "# TESTING CODE\n",
    "code_lines"
   ]
  },
  {
   "cell_type": "code",
   "execution_count": null,
   "metadata": {},
   "outputs": [],
   "source": [
    "#export\n",
    "import inspect, ast, astunparse\n",
    "from __future__ import annotations\n",
    "import fastcore.docments as dments"
   ]
  },
  {
   "cell_type": "markdown",
   "metadata": {},
   "source": [
    "Below we have an example string repsentation of the above docments style:"
   ]
  },
  {
   "cell_type": "code",
   "execution_count": null,
   "metadata": {},
   "outputs": [],
   "source": [
    "source = \"\"\"def addition(\n",
    "    a:(int, float), # The first number to add\n",
    "    # The second number to add\n",
    "    b:int = 2,\n",
    ") -> (int,float): # The sum of a and b\n",
    "    \"Adds two numbers together\"\n",
    "    return a+b\n",
    "\"\"\""
   ]
  },
  {
   "cell_type": "code",
   "execution_count": null,
   "metadata": {},
   "outputs": [],
   "source": [
    "#export\n",
    "def get_annotations(\n",
    "    source:str # Source code of function or class\n",
    "):\n",
    "    \"Extracts the type annotations from source code\"\n",
    "    parse = ast.parse(source)\n",
    "    arg_annos = []\n",
    "    for i,anno in enumerate(parse.body[0].args.args):\n",
    "        if anno.annotation is not None:\n",
    "            arg_annos.append(astunparse.unparse(anno.annotation).strip('\\n'))\n",
    "        else:\n",
    "            arg_annos.append(anno.annotation)\n",
    "        parse.body[0].args.args[i].annotation = None\n",
    "    if parse.body[0].returns is not None:\n",
    "        ret_anno = astunparse.unparse(parse.body[0].returns).strip('\\n')\n",
    "    else:\n",
    "        ret_anno = None\n",
    "    return arg_annos, ret_anno"
   ]
  },
  {
   "cell_type": "code",
   "execution_count": null,
   "metadata": {},
   "outputs": [],
   "source": [
    "test_eq(get_annotations(source), (['(int, float)', 'int'], '(int, float)'))"
   ]
  },
  {
   "cell_type": "code",
   "execution_count": null,
   "metadata": {},
   "outputs": [],
   "source": [
    "#export\n",
    "def _get_leading(o):\n",
    "    return len(o) - len(o.lstrip(o[0])), o[0]"
   ]
  },
  {
   "cell_type": "code",
   "execution_count": null,
   "metadata": {},
   "outputs": [],
   "source": [
    "test_eq(_get_leading('  Hello my name is Zach'), (2, ' '))"
   ]
  },
  {
   "cell_type": "code",
   "execution_count": null,
   "metadata": {},
   "outputs": [
    {
     "data": {
      "text/plain": [
       "<_ast.Str at 0x7f4ffd2d55f8>"
      ]
     },
     "execution_count": null,
     "metadata": {},
     "output_type": "execute_result"
    }
   ],
   "source": [
    "parsed_source.body[0].body[0].value"
   ]
  },
  {
   "cell_type": "code",
   "execution_count": null,
   "metadata": {},
   "outputs": [],
   "source": [
    "#export\n",
    "def reformat_function(\n",
    "    source:str, # Source code\n",
    "):\n",
    "    \"Takes messy source code and refactors it into a readable PEP-8 standard style\"\n",
    "    docs = dments.docments(source)\n",
    "    annos = get_annotations(source)\n",
    "    parsed_source = ast.parse(source)\n",
    "    for i in range(len(parsed_source.body[0].args.args)):\n",
    "        parsed_source.body[0].args.args[i].annotation = None\n",
    "    parsed_source.body[0].returns = None\n",
    "    unparsed_source = astunparse.unparse(parsed_source).lstrip('\\n').split('\\n')\n",
    "    function_definition = unparsed_source[0]\n",
    "    # Check if we have a docstring\n",
    "    if isinstance(parsed_source.body[0].body[0].value, ast.Str):\n",
    "        function_innards = \"\\n\".join(unparsed_source[2:])\n",
    "    else:\n",
    "        function_innards = \"\\n\".join(unparsed_source[1:])\n",
    "    def _get_whitespace(): return whitespace_char*num_whitespace\n",
    "    \n",
    "    num_whitespace, whitespace_char = _get_leading(unparsed_source[2])\n",
    "    docstring = f'\\n{_get_whitespace()}\"\"\"\\n'\n",
    "    if isinstance(parsed_source.body[0].body[0].value, ast.Str):\n",
    "        _quotes = (\"'\", '\"')\n",
    "        docstring += f'{_get_whitespace()}{unparsed_source[1].lstrip(whitespace_char).strip(_quotes[0]).strip(_quotes[1])}\\n\\n'\n",
    "    docstring += f'{_get_whitespace()}Parameters\\n'\n",
    "    docstring += f'{_get_whitespace()}----------\\n'\n",
    "    for i, param in enumerate(docs.keys()):\n",
    "        if param != \"return\" and param != \"self\":\n",
    "            docstring += f'{_get_whitespace()}{param} : {annos[0][i]}\\n'\n",
    "            docstring += f'{whitespace_char * (num_whitespace+2)}{docs[param]}\\n'\n",
    "    if (annos[-1] != inspect._empty) and ('return' in docs.keys()):\n",
    "        docstring += f'\\n{_get_whitespace()}Returns\\n'\n",
    "        docstring += f'{_get_whitespace()}-------\\n'\n",
    "        docstring += f'{_get_whitespace()}{annos[1]}\\n'\n",
    "        docstring += f'{whitespace_char * (num_whitespace+2)}{docs[\"return\"]}\\n'\n",
    "    docstring += f'{_get_whitespace()}\"\"\"\\n'\n",
    "    return f'{function_definition}{docstring}{function_innards}'"
   ]
  },
  {
   "cell_type": "code",
   "execution_count": null,
   "metadata": {},
   "outputs": [
    {
     "name": "stdout",
     "output_type": "stream",
     "text": [
      "def __init__(\n",
      "        self,\n",
      "        a:int,\n",
      "        b:(int, float), # The second number to use\n",
      "    ):\n",
      "        self.a = a\n",
      "        self.b = b\n"
     ]
    }
   ],
   "source": [
    "print(source)"
   ]
  },
  {
   "cell_type": "code",
   "execution_count": null,
   "metadata": {},
   "outputs": [
    {
     "name": "stdout",
     "output_type": "stream",
     "text": [
      "def __init__(self, a, b):\n",
      "    \"\"\"\n",
      "    Parameters\n",
      "    ----------\n",
      "    a : int\n",
      "      None\n",
      "    b : (int, float)\n",
      "      The second number to use\n",
      "    \"\"\"\n",
      "    self.a = a\n",
      "    self.b = b\n",
      "\n"
     ]
    }
   ],
   "source": [
    "print(reformat_function(source))"
   ]
  },
  {
   "cell_type": "code",
   "execution_count": null,
   "metadata": {},
   "outputs": [],
   "source": [
    "source = \"\"\"def __init__(\n",
    "        self,\n",
    "        a:int,\n",
    "        b:(int, float), # The second number to use\n",
    "    ):\n",
    "        self.a = a\n",
    "        self.b = b\"\"\""
   ]
  },
  {
   "cell_type": "code",
   "execution_count": null,
   "metadata": {},
   "outputs": [
    {
     "name": "stdout",
     "output_type": "stream",
     "text": [
      "def __init__(self, a, b):\n",
      "    \"\"\"\n",
      "    Parameters\n",
      "    ----------\n",
      "    a : int\n",
      "      None\n",
      "    b : (int, float)\n",
      "      The second number to use\n",
      "    \"\"\"\n",
      "    self.a = a\n",
      "    self.b = b\n",
      "\n"
     ]
    }
   ],
   "source": [
    "print(reformat_function(source))"
   ]
  },
  {
   "cell_type": "markdown",
   "metadata": {},
   "source": [
    "For classes we'll need to extract functions and constants, and only reformat the functions in each class"
   ]
  },
  {
   "cell_type": "code",
   "execution_count": null,
   "metadata": {},
   "outputs": [],
   "source": [
    "class ExampleClass(object):\n",
    "    \"\"\"The summary line for a class docstring should fit on one line.\n",
    "\n",
    "    If the class has public attributes, they may be documented here\n",
    "    in an ``Attributes`` section and follow the same formatting as a\n",
    "    function's ``Args`` section. Alternatively, attributes may be documented\n",
    "    inline with the attribute's declaration (see __init__ method below).\n",
    "\n",
    "    Properties created with the ``@property`` decorator should be documented\n",
    "    in the property's getter method.\n",
    "\n",
    "    Attributes\n",
    "    ----------\n",
    "    attr1 : str\n",
    "        Description of `attr1`.\n",
    "    attr2 : :obj:`int`, optional\n",
    "        Description of `attr2`.\n",
    "\n",
    "    \"\"\"\n",
    "\n",
    "    def __init__(self, param1, param2, param3):\n",
    "        \"\"\"Example of docstring on the __init__ method.\n",
    "\n",
    "        The __init__ method may be documented in either the class level\n",
    "        docstring, or as a docstring on the __init__ method itself.\n",
    "\n",
    "        Either form is acceptable, but the two should not be mixed. Choose one\n",
    "        convention to document the __init__ method and be consistent with it.\n",
    "\n",
    "        Note\n",
    "        ----\n",
    "        Do not include the `self` parameter in the ``Parameters`` section.\n",
    "\n",
    "        Parameters\n",
    "        ----------\n",
    "        param1 : str\n",
    "            Description of `param1`.\n",
    "        param2 : :obj:`list` of :obj:`str`\n",
    "            Description of `param2`. Multiple\n",
    "            lines are supported.\n",
    "        param3 : :obj:`int`, optional\n",
    "            Description of `param3`.\n",
    "\n",
    "        \"\"\"\n",
    "        self.attr1 = param1\n",
    "        self.attr2 = param2\n",
    "        self.attr3 = param3  #: Doc comment *inline* with attribute\n",
    "\n",
    "        #: list of str: Doc comment *before* attribute, with type specified\n",
    "        self.attr4 = [\"attr4\"]\n",
    "\n",
    "        self.attr5 = None\n",
    "        \"\"\"str: Docstring *after* attribute, with type specified.\"\"\"\n",
    "\n",
    "    @property\n",
    "    def readonly_property(self):\n",
    "        \"\"\"str: Properties should be documented in their getter method.\"\"\"\n",
    "        return \"readonly_property\"\n",
    "\n",
    "    @property\n",
    "    def readwrite_property(self):\n",
    "        \"\"\":obj:`list` of :obj:`str`: Properties with both a getter and setter\n",
    "        should only be documented in their getter method.\n",
    "\n",
    "        If the setter method contains notable behavior, it should be\n",
    "        mentioned here.\n",
    "        \"\"\"\n",
    "        return [\"readwrite_property\"]\n",
    "\n",
    "    @readwrite_property.setter\n",
    "    def readwrite_property(self, value):\n",
    "        value\n",
    "\n",
    "    def example_method(self, param1, param2):\n",
    "        \"\"\"Class methods are similar to regular functions.\n",
    "\n",
    "        Note\n",
    "        ----\n",
    "        Do not include the `self` parameter in the ``Parameters`` section.\n",
    "\n",
    "        Parameters\n",
    "        ----------\n",
    "        param1\n",
    "            The first parameter.\n",
    "        param2\n",
    "            The second parameter.\n",
    "\n",
    "        Returns\n",
    "        -------\n",
    "        bool\n",
    "            True if successful, False otherwise.\n",
    "\n",
    "        \"\"\"\n",
    "        return True\n",
    "\n",
    "    def __special__(self):\n",
    "        \"\"\"By default special members with docstrings are not included.\n",
    "\n",
    "        Special members are any methods or attributes that start with and\n",
    "        end with a double underscore. Any special member with a docstring\n",
    "        will be included in the output, if\n",
    "        ``napoleon_include_special_with_doc`` is set to True.\n",
    "\n",
    "        This behavior can be enabled by changing the following setting in\n",
    "        Sphinx's conf.py::\n",
    "\n",
    "            napoleon_include_special_with_doc = True\n",
    "\n",
    "        \"\"\"\n",
    "        pass\n",
    "\n",
    "    def __special_without_docstring__(self):\n",
    "        pass\n",
    "\n",
    "    def _private(self):\n",
    "        \"\"\"By default private members are not included.\n",
    "\n",
    "        Private members are any methods or attributes that start with an\n",
    "        underscore and are *not* special. By default they are not included\n",
    "        in the output.\n",
    "\n",
    "        This behavior can be changed such that private members *are* included\n",
    "        by changing the following setting in Sphinx's conf.py::\n",
    "\n",
    "            napoleon_include_private_with_doc = True\n",
    "\n",
    "        \"\"\"\n",
    "        pass\n",
    "\n",
    "    def _private_without_docstring(self):\n",
    "        pass"
   ]
  }
 ],
 "metadata": {
  "kernelspec": {
   "display_name": "Python 3",
   "language": "python",
   "name": "python3"
  }
 },
 "nbformat": 4,
 "nbformat_minor": 2
}
