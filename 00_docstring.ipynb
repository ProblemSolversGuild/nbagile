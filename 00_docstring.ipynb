{
 "cells": [
  {
   "cell_type": "code",
   "execution_count": null,
   "metadata": {},
   "outputs": [],
   "source": [
    "# default_exp docstring"
   ]
  },
  {
   "cell_type": "markdown",
   "metadata": {},
   "source": [
    "# Exporting Docstrings\n",
    "\n",
    "> Converts `docment` docstrings to Numpy styled"
   ]
  },
  {
   "cell_type": "code",
   "execution_count": null,
   "metadata": {},
   "outputs": [],
   "source": [
    "#hide\n",
    "from nbdev.showdoc import *\n",
    "from fastcore.test import *"
   ]
  },
  {
   "cell_type": "markdown",
   "metadata": {},
   "source": [
    "The goal of this module is to take code that looks like the following:"
   ]
  },
  {
   "cell_type": "code",
   "execution_count": null,
   "metadata": {},
   "outputs": [],
   "source": [
    "def addition(\n",
    "    a:int, # The first number to add\n",
    "    b:int=2, # The second number to add\n",
    ") -> int: # The sum of a and b\n",
    "    \"Adds two numbers together\"\n",
    "    return a+b"
   ]
  },
  {
   "cell_type": "markdown",
   "metadata": {},
   "source": [
    "And convert it to be the following:"
   ]
  },
  {
   "cell_type": "code",
   "execution_count": null,
   "metadata": {},
   "outputs": [],
   "source": [
    "def addition(a,b) -> int:\n",
    "    \"\"\"Adds two numbers together\n",
    "    \n",
    "    Parameters\n",
    "    ---------\n",
    "    a : int\n",
    "        The first number to add\n",
    "    b : int\n",
    "        The second number to add\n",
    "        \n",
    "    Returns\n",
    "    -------\n",
    "    int\n",
    "        The sum of a and b\n",
    "    \"\"\"\n",
    "    return a + b"
   ]
  },
  {
   "cell_type": "code",
   "execution_count": null,
   "metadata": {},
   "outputs": [],
   "source": [
    "# TESTING CODE\n",
    "import nbdev.export as exp\n",
    "nb = exp.read_nb('99_test.ipynb')\n",
    "default = exp.find_default_export(nb['cells'])\n",
    "mod = exp.get_nbdev_module()\n",
    "exports = [exp.is_export(c, default) for c in nb['cells']]\n",
    "cells = [(i,c,e) for i,(c,e) in enumerate(zip(nb['cells'],exports)) if e is not None]\n",
    "flag_lines, code_lines = exp.split_flags_and_code(cells[0][1])\n",
    "code_lines = exp._deal_import(code_lines, 'docstring.py')"
   ]
  },
  {
   "cell_type": "code",
   "execution_count": null,
   "metadata": {},
   "outputs": [
    {
     "data": {
      "text/plain": [
       "['def addition(',\n",
       " '    a:int, # The first number to add',\n",
       " '    b:int, # The second number to add',\n",
       " ') -> int: # The sum of a and b',\n",
       " '    \"Adds two numbers together\"',\n",
       " '    return a+b']"
      ]
     },
     "execution_count": null,
     "metadata": {},
     "output_type": "execute_result"
    }
   ],
   "source": [
    "# TESTING CODE\n",
    "code_lines"
   ]
  },
  {
   "cell_type": "code",
   "execution_count": null,
   "metadata": {},
   "outputs": [],
   "source": [
    "#export\n",
    "import inspect, ast, astunparse\n",
    "from __future__ import annotations\n",
    "import fastcore.docments as dments\n",
    "from collections import OrderedDict\n",
    "\n",
    "from fastcore.xtras import risinstance"
   ]
  },
  {
   "cell_type": "markdown",
   "metadata": {},
   "source": [
    "Below we have an example string repsentation of the above docments style:"
   ]
  },
  {
   "cell_type": "code",
   "execution_count": null,
   "metadata": {},
   "outputs": [],
   "source": [
    "source = '''def addition(\n",
    "    a:(int, float), # The first number to add\n",
    "    # The second number to add\n",
    "    b:int = 2,\n",
    ") -> (int,float): # The sum of a and b\n",
    "    \"Adds two numbers together\"\n",
    "    return a+b'''"
   ]
  },
  {
   "cell_type": "code",
   "execution_count": null,
   "metadata": {},
   "outputs": [],
   "source": [
    "#export\n",
    "def get_annotations(\n",
    "    source:str # Source code of function or class\n",
    "):\n",
    "    \"Extracts the type annotations from source code\"\n",
    "    parse = ast.parse(source)\n",
    "    arg_annos = []\n",
    "    for i,anno in enumerate(parse.body[0].args.args):\n",
    "        if anno.annotation is not None:\n",
    "            arg_annos.append(astunparse.unparse(anno.annotation).strip('\\n'))\n",
    "        else:\n",
    "            arg_annos.append(anno.annotation)\n",
    "        parse.body[0].args.args[i].annotation = None\n",
    "    if parse.body[0].returns is not None:\n",
    "        ret_anno = astunparse.unparse(parse.body[0].returns).strip('\\n')\n",
    "    else:\n",
    "        ret_anno = None\n",
    "    return arg_annos, ret_anno"
   ]
  },
  {
   "cell_type": "code",
   "execution_count": null,
   "metadata": {},
   "outputs": [],
   "source": [
    "test_eq(get_annotations(source), (['(int, float)', 'int'], '(int, float)'))"
   ]
  },
  {
   "cell_type": "code",
   "execution_count": null,
   "metadata": {},
   "outputs": [],
   "source": [
    "#export\n",
    "def _get_leading(o):\n",
    "    return len(o) - len(o.lstrip(o[0])), o[0]"
   ]
  },
  {
   "cell_type": "code",
   "execution_count": null,
   "metadata": {},
   "outputs": [],
   "source": [
    "test_eq(_get_leading('  Hello my name is Zach'), (2, ' '))"
   ]
  },
  {
   "cell_type": "code",
   "execution_count": null,
   "metadata": {},
   "outputs": [],
   "source": [
    "def testme(anno):\n",
    "    print(anno or 'any')"
   ]
  },
  {
   "cell_type": "code",
   "execution_count": null,
   "metadata": {},
   "outputs": [
    {
     "name": "stdout",
     "output_type": "stream",
     "text": [
      "any\n"
     ]
    }
   ],
   "source": [
    "testme(None)"
   ]
  },
  {
   "cell_type": "code",
   "execution_count": null,
   "metadata": {},
   "outputs": [],
   "source": [
    "def o():\n",
    "    param_string = f'\\n{_get_whitespace()}Parameters\\n{_get_whitespace()}----------\\n'\n",
    "    def _inner(param, anno):\n",
    "        param_string = ''\n",
    "        if param not in ['return', 'self', 'cls']:\n",
    "            param_string += f'{_get_whitespace()}{param}'\n",
    "            param_string += f' : {anno or \"any\"}\\n'\n",
    "            print(param)\n",
    "            if docs[param] is not None:\n",
    "                param_string += f'{whitespace_char * (num_whitespace+2)}{docs[param]}\\n'\n",
    "        return param_string\n",
    "    \n",
    "    o = apply(_inner, docks.values(), annos[0])\n",
    "    param_string += '\\n'.join(o)\n",
    "    if param_string != f'\\n{_get_whitespace()}Parameters\\n{_get_whitespace()}----------\\n':\n",
    "        docstring += param_string"
   ]
  },
  {
   "cell_type": "code",
   "execution_count": null,
   "metadata": {},
   "outputs": [
    {
     "data": {
      "text/plain": [
       "[Function(name='o', lineno=1, col_offset=0, endline=16, is_method=False, classname=None, closures=[Function(name='_inner', lineno=3, col_offset=4, endline=11, is_method=False, classname=None, closures=[], complexity=4)], complexity=2)]"
      ]
     },
     "execution_count": null,
     "metadata": {},
     "output_type": "execute_result"
    }
   ],
   "source": [
    "ComplexityVisitor.from_code(inspect.getsource(o)).functions"
   ]
  },
  {
   "cell_type": "code",
   "execution_count": null,
   "metadata": {},
   "outputs": [],
   "source": [
    "_quotes = (\"'\", '\"')"
   ]
  },
  {
   "cell_type": "code",
   "execution_count": null,
   "metadata": {},
   "outputs": [],
   "source": [
    "orig_docstring = astunparse.unparse(ast.parse(source).body[0].body[0]).lstrip(' ').replace(_quotes[0],'').replace(_quotes[1],'')\n",
    "orig_docstring = orig_docstring.split('\\\\n')"
   ]
  },
  {
   "cell_type": "code",
   "execution_count": null,
   "metadata": {},
   "outputs": [
    {
     "data": {
      "text/plain": [
       "'\\n \\nAdds two numbers together\\n'"
      ]
     },
     "execution_count": null,
     "metadata": {},
     "output_type": "execute_result"
    }
   ],
   "source": [
    "o(orig_docstring, ' ')"
   ]
  },
  {
   "cell_type": "code",
   "execution_count": null,
   "metadata": {},
   "outputs": [
    {
     "data": {
      "text/plain": [
       "'\\n \\nAdds two numbers together\\n'"
      ]
     },
     "execution_count": null,
     "metadata": {},
     "output_type": "execute_result"
    }
   ],
   "source": [
    "o(orig_docstring, ' ')"
   ]
  },
  {
   "cell_type": "code",
   "execution_count": null,
   "metadata": {},
   "outputs": [
    {
     "data": {
      "text/plain": [
       "[Function(name='o', lineno=1, col_offset=0, endline=11, is_method=False, classname=None, closures=[], complexity=6)]"
      ]
     },
     "execution_count": null,
     "metadata": {},
     "output_type": "execute_result"
    }
   ],
   "source": [
    "ComplexityVisitor.from_code(inspect.getsource(o)).functions"
   ]
  },
  {
   "cell_type": "code",
   "execution_count": null,
   "metadata": {},
   "outputs": [],
   "source": []
  },
  {
   "cell_type": "code",
   "execution_count": null,
   "metadata": {},
   "outputs": [
    {
     "data": {
      "text/plain": [
       "[Function(name='o', lineno=1, col_offset=0, endline=14, is_method=False, classname=None, closures=[], complexity=6)]"
      ]
     },
     "execution_count": null,
     "metadata": {},
     "output_type": "execute_result"
    }
   ],
   "source": [
    "ComplexityVisitor.from_code(inspect.getsource(o)).functions"
   ]
  },
  {
   "cell_type": "code",
   "execution_count": null,
   "metadata": {},
   "outputs": [],
   "source": [
    "def apply(func, x, *args, **kwargs):\n",
    "    \"Apply `func` recursively to `x`, passing on args\"\n",
    "    if is_listy(x): return type(x)([apply(func, o, *args, **kwargs) for o in x])\n",
    "    if isinstance(x,dict):  return {k: apply(func, v, *args, **kwargs) for k,v in x.items()}\n",
    "    res = func(x, *args, **kwargs)\n",
    "    return res"
   ]
  },
  {
   "cell_type": "code",
   "execution_count": null,
   "metadata": {},
   "outputs": [],
   "source": [
    "p_source = ast.parse(source)"
   ]
  },
  {
   "cell_type": "code",
   "execution_count": null,
   "metadata": {},
   "outputs": [
    {
     "data": {
      "text/plain": [
       "[<_ast.arg at 0x7f27ed9e3438>, <_ast.arg at 0x7f27ed9e3e10>]"
      ]
     },
     "execution_count": null,
     "metadata": {},
     "output_type": "execute_result"
    }
   ],
   "source": [
    "p_source.body[0].args.args"
   ]
  },
  {
   "cell_type": "code",
   "execution_count": null,
   "metadata": {},
   "outputs": [],
   "source": [
    "#export\n",
    "from fastcore.xtras import is_listy"
   ]
  },
  {
   "cell_type": "code",
   "execution_count": null,
   "metadata": {},
   "outputs": [
    {
     "data": {
      "text/plain": [
       "[<_ast.Name at 0x7f27ed989198>]"
      ]
     },
     "execution_count": null,
     "metadata": {},
     "output_type": "execute_result"
    }
   ],
   "source": [
    "ast.parse(\"\"\"@typedispatch\n",
    "def o(): \n",
    "    for i in range(len(parsed_source.body[0].args.args)):\n",
    "        parsed_source.body[0].args.args[i].annotation = None\"\"\").body[0].decorator_list"
   ]
  },
  {
   "cell_type": "code",
   "execution_count": null,
   "metadata": {},
   "outputs": [
    {
     "data": {
      "text/plain": [
       "[Function(name='o', lineno=1, col_offset=0, endline=4, is_method=False, classname=None, closures=[], complexity=2)]"
      ]
     },
     "execution_count": null,
     "metadata": {},
     "output_type": "execute_result"
    }
   ],
   "source": [
    "ComplexityVisitor.from_code(\"\"\"@typedispatch\n",
    "def o(): \n",
    "    for i in range(len(parsed_source.body[0].args.args)):\n",
    "        parsed_source.body[0].args.args[i].annotation = None\"\"\").functions"
   ]
  },
  {
   "cell_type": "code",
   "execution_count": null,
   "metadata": {},
   "outputs": [
    {
     "name": "stdout",
     "output_type": "stream",
     "text": [
      "33.5 µs ± 2.87 µs per loop (mean ± std. dev. of 7 runs, 10000 loops each)\n"
     ]
    }
   ],
   "source": [
    "%%timeit\n",
    "p_source = ast.parse(source)\n",
    "_ = apply(lambda x: setattr(x, 'annotation', None), p_source.body[0].args.args)"
   ]
  },
  {
   "cell_type": "code",
   "execution_count": null,
   "metadata": {},
   "outputs": [
    {
     "name": "stdout",
     "output_type": "stream",
     "text": [
      "22.1 µs ± 1.26 µs per loop (mean ± std. dev. of 7 runs, 10000 loops each)\n"
     ]
    }
   ],
   "source": [
    "%%timeit\n",
    "p_source = ast.parse(source)\n",
    "for i in range(len(p_source.body[0].args.args)):\n",
    "        p_source.body[0].args.args[i].annotation = None"
   ]
  },
  {
   "cell_type": "code",
   "execution_count": null,
   "metadata": {},
   "outputs": [],
   "source": [
    "#export\n",
    "def reformat_function(\n",
    "    source:str, # Source code\n",
    "):\n",
    "    \"Takes messy source code and refactors it into a readable PEP-8 standard style\"\n",
    "    # Read in docments, parse source code, generate annotations\n",
    "    docs = dments.docments(source)\n",
    "    parsed_source = ast.parse(source)\n",
    "    annos = get_annotations(source)\n",
    "    \n",
    "    # Set all arg annotations to None\n",
    "    _ = apply(lambda x: setattr(x, 'annotation', None), parsed_source.body[0].args.args)\n",
    "        \n",
    "    parsed_source.body[0].returns = None\n",
    "    body = parsed_source.body[0].body\n",
    "    unparsed_source = astunparse.unparse(parsed_source).lstrip('\\n').split('\\n')\n",
    "    has_decorator = len(parsed_source.body[0].decorator_list) > 0\n",
    "        \n",
    "    # Extract function definition\n",
    "    function_definition = '\\n'.join(unparsed_source[:2]) if has_decorator else unparsed_source[0]\n",
    "\n",
    "    # Check if we have a docstring and extract function innards\n",
    "    def _extract_innards(is_str:bool):\n",
    "        i = 2 if is_str else 1\n",
    "        return '\\n'.join(unparsed_source[i+1:]) if has_decorator else '\\n'.join(unparsed_source[i:])\n",
    "    \n",
    "    function_innards = _extract_innards(isinstance(body[0].value, ast.Str))\n",
    "            \n",
    "    def _get_whitespace(): return whitespace_char*num_whitespace\n",
    "    \n",
    "    if unparsed_source[2] != '':\n",
    "        num_whitespace, whitespace_char = _get_leading(unparsed_source[2])\n",
    "    else:\n",
    "        if len(unparsed_source) < 4:\n",
    "            num_whitespace, whitespace_char = _get_leading(unparsed_source[1])\n",
    "        else:\n",
    "            num_whitespace, whitespace_char = _get_leading(unparsed_source[3])\n",
    "        \n",
    "    docstring = f'\\n{_get_whitespace()}\"\"\"'\n",
    "    \n",
    "    if isinstance(body[0].value, ast.Str):\n",
    "        _quotes = (\"'\", '\"')\n",
    "        orig_docstring = astunparse.unparse(body[0]).lstrip(whitespace_char).replace(_quotes[0],'').replace(_quotes[1],'')\n",
    "        orig_docstring = orig_docstring.split('\\\\n')\n",
    "        def _inner(line, whitespace_char):\n",
    "            diff = len(line) - len(line.lstrip())\n",
    "            whitespace = whitespace_char * diff if diff > 0 else _get_whitespace()\n",
    "            return f'\\n{whitespace}{line}'\n",
    "\n",
    "        o = apply(_inner, orig_docstring, whitespace_char=whitespace_char)\n",
    "        o[0] = orig_docstring[0].lstrip()\n",
    "        docstring +=  '\\n'.join(o)\n",
    "        \n",
    "    param_string = f'\\n{_get_whitespace()}Parameters\\n{_get_whitespace()}----------\\n'\n",
    "    if len(docs.keys()) >= 1:\n",
    "        param_string = f'\\n{_get_whitespace()}Parameters\\n{_get_whitespace()}----------\\n'\n",
    "        for i, param in enumerate(docs.keys()):\n",
    "            if param != \"return\" and param != \"self\" and param != \"cls\":\n",
    "                param_string += f'{_get_whitespace()}{param}'\n",
    "                if annos[0][i] is not None:\n",
    "                    param_string += f' : {annos[0][i]}'\n",
    "                else:\n",
    "                    param_string += f' : any'\n",
    "                param_string += '\\n'\n",
    "                if docs[param] is not None:\n",
    "                    param_string += f'{whitespace_char * (num_whitespace+2)}{docs[param]}\\n'\n",
    "    if param_string != f'\\n{_get_whitespace()}Parameters\\n{_get_whitespace()}----------\\n':\n",
    "        docstring += param_string\n",
    "            \n",
    "    if (annos[-1] != inspect._empty) and ('return' in docs.keys()):\n",
    "        docstring += f'\\n{_get_whitespace()}Returns\\n'\n",
    "        docstring += f'{_get_whitespace()}-------\\n'\n",
    "        docstring += f'{_get_whitespace()}{annos[1]}\\n'\n",
    "        docstring += f'{whitespace_char * (num_whitespace+2)}{docs[\"return\"]}\\n'\n",
    "    docstring += f'{_get_whitespace()}\"\"\"\\n'\n",
    "    return f'{function_definition}{docstring}{function_innards}'"
   ]
  },
  {
   "cell_type": "code",
   "execution_count": null,
   "metadata": {},
   "outputs": [],
   "source": [
    "source = \"\"\"@delegates()\n",
    "def addition(\n",
    "    a:(int, float), # The first number to add\n",
    "    # The second number to add\n",
    "    b:int = 2,\n",
    ") -> (int,float): # The sum of a and b\n",
    "    \"Adds two numbers together\"\n",
    "    def _inner(): return a+b\n",
    "    return _inner()\"\"\""
   ]
  },
  {
   "cell_type": "code",
   "execution_count": null,
   "metadata": {},
   "outputs": [
    {
     "name": "stdout",
     "output_type": "stream",
     "text": [
      "@delegates()\n",
      "def addition(\n",
      "    a:(int, float), # The first number to add\n",
      "    # The second number to add\n",
      "    b:int = 2,\n",
      ") -> (int,float): # The sum of a and b\n",
      "    \"Adds two numbers together\"\n",
      "    def _inner(): return a+b\n",
      "    return _inner()\n"
     ]
    }
   ],
   "source": [
    "print(source)"
   ]
  },
  {
   "cell_type": "code",
   "execution_count": null,
   "metadata": {},
   "outputs": [
    {
     "name": "stdout",
     "output_type": "stream",
     "text": [
      "@delegates()\n",
      "def addition(a, b=2):\n",
      "    \"\"\"Adds two numbers together\n",
      "\n",
      "    Parameters\n",
      "    ----------\n",
      "    a : (int, float)\n",
      "      The first number to add\n",
      "    b : int\n",
      "      The second number to add\n",
      "\n",
      "    Returns\n",
      "    -------\n",
      "    (int, float)\n",
      "      The sum of a and b\n",
      "    \"\"\"\n",
      "\n",
      "    def _inner():\n",
      "        return (a + b)\n",
      "    return _inner()\n",
      "\n"
     ]
    }
   ],
   "source": [
    "print(reformat_function(source))"
   ]
  },
  {
   "cell_type": "code",
   "execution_count": null,
   "metadata": {},
   "outputs": [],
   "source": [
    "# export\n",
    "def reformat_class(\n",
    "    source:str, # Source code of a full class\n",
    "    recursion_level:int = 1, # Depth of recursion\n",
    "):\n",
    "    \"Takes messy class code and refactors it into a readable PEP-8 standard style\"\n",
    "    whitespace_char = None\n",
    "    def _format_spacing(code, num_leading):\n",
    "        code = [c for c in code if len(c) > 0]\n",
    "        def _inner(c, num_leading):\n",
    "            curr_leading = len(c) - len(c.lstrip())\n",
    "            return f'{c[0] * (curr_leading - num_leading)}{c.lstrip()}'\n",
    "        return apply(_inner, code, num_leading=num_leading)\n",
    "    # Parse source code and get body\n",
    "    parsed_source = ast.parse(source)\n",
    "    body = parsed_source.body[0].body\n",
    "    new_source = ''\n",
    "    \n",
    "    unparsed_source = astunparse.unparse(parsed_source).lstrip('\\n').split('\\n')\n",
    "    \n",
    "    # Add function definition\n",
    "    new_source += unparsed_source[0]\n",
    "    \n",
    "    def _get_whitespace(): return whitespace_char * num_whitespace\n",
    "    \n",
    "    num_whitespace, whitespace_char = _get_leading(unparsed_source[2])\n",
    "    \n",
    "    docstring = f'\\n{_get_whitespace()}\"\"\"'\n",
    "    docstring_len, diff = 0,2\n",
    "    \n",
    "    new_nodes = [unparsed_source[0]]\n",
    "    \n",
    "    for i, node in enumerate(body):\n",
    "        if risinstance((ast.ClassDef, ast.FunctionDef), node):\n",
    "            beginning_lineno = node.lineno\n",
    "            split_code = source.split('\\n')\n",
    "            if i < (len(body) - 1):\n",
    "                ending_lineno = body[i+1].lineno\n",
    "                code = split_code[beginning_lineno-1:ending_lineno-1]\n",
    "                num_leading = len(code[0]) - len(code[0].lstrip())\n",
    "                if isinstance(node, ast.ClassDef):\n",
    "                    for i,c in enumerate(code): code[i] = code[i][num_leading:]\n",
    "                    new_nodes.append(reformat_class('\\n'.join(code), recursion_level+1))\n",
    "                else:\n",
    "                    if whitespace_char is None:\n",
    "                        whitespace_char = code[i][0]\n",
    "                    code = _format_spacing(code, num_leading)\n",
    "                    new_nodes.append(reformat_function('\\n'.join(code)))\n",
    "            else:\n",
    "                code = split_code[beginning_lineno-1:]\n",
    "                if whitespace_char is None:\n",
    "                    whitespace_char = code[i][0]\n",
    "                num_leading = len(code[0]) - len(code[0].lstrip())\n",
    "                code = _format_spacing(code, num_leading)\n",
    "                new_nodes.append(reformat_function('\\n'.join(code)))\n",
    "        else:\n",
    "            if isinstance(body[0].value, ast.Str) and i == 0:\n",
    "                _quotes = (\"'\", '\"')\n",
    "                orig_docstring = astunparse.unparse(body[0]).lstrip(whitespace_char).replace(_quotes[0],'').replace(_quotes[1],'')\n",
    "                orig_docstring = orig_docstring.split('\\\\n')\n",
    "                def _inner(line, whitespace_char):\n",
    "                    diff = len(line) - len(line.lstrip())\n",
    "                    whitespace = whitespace_char * diff if diff > 0 else _get_whitespace()\n",
    "                    return f'\\n{whitespace}{line}'\n",
    "                \n",
    "                o = apply(_inner, orig_docstring, whitespace_char=whitespace_char)\n",
    "                o[0] = orig_docstring[0].lstrip()\n",
    "                docstring +=  '\\n'.join(o)\n",
    "                docstring += f'\\n{_get_whitespace()}\"\"\"'\n",
    "                full_string = docstring.split('\\n')\n",
    "                new_string = ''\n",
    "                \n",
    "                if len(full_string) == 4:\n",
    "                    new_string = apply(lambda x: x.lstrip(), full_string)\n",
    "                    new_string = ''.join(new_string)\n",
    "                else:\n",
    "                    new_string = '\\n'.join(full_string)\n",
    "                docstring_len = len(new_string.split('\\n'))\n",
    "                new_nodes.append(new_string)\n",
    "            else:\n",
    "                new_nodes.append(f'{astunparse.unparse(node).strip()}')\n",
    "    formatted_source = []\n",
    "    num_chars = 4\n",
    "    if recursion_level > 1: \n",
    "        num_chars += (2*(recursion_level-1)) - 2\n",
    "        \n",
    "    formatted_source.append(new_nodes[0])\n",
    "    line = new_nodes[1]\n",
    "    if not len(line.lstrip()) < len(line):\n",
    "        line = line.split('\\n')\n",
    "        line = apply(lambda x: f'{whitespace_char * num_chars}{x}', line)\n",
    "        line = '\\n'.join(line)\n",
    "    formatted_source.append(line.lstrip('\\n'))\n",
    "            \n",
    "    for i,line in enumerate(new_nodes[2:]):\n",
    "        l = line.split('\\n')\n",
    "        for i,o in enumerate(l): \n",
    "            l[i] = f'{whitespace_char * num_chars}{o}'\n",
    "        line = '\\n'.join(l)\n",
    "        formatted_source.append(line)\n",
    "    return '\\n'.join(formatted_source)"
   ]
  },
  {
   "cell_type": "code",
   "execution_count": null,
   "metadata": {},
   "outputs": [],
   "source": [
    "source = '''class Arithmetic:\n",
    "    \"A class that can perform basic arithmetic on ops\"\n",
    "    _o = 2\n",
    "    _b = 5\n",
    "    \n",
    "    _c = 3\n",
    "    \n",
    "    class A:\n",
    "        def __init__(\n",
    "          self, \n",
    "          o:int # An integer\n",
    "        ):\n",
    "            self.o = o\n",
    "    \n",
    "    def __init__(\n",
    "        self,\n",
    "        a:int, # The first number to use\n",
    "        b:(int, float), # The second number to use\n",
    "    ):\n",
    "        self.a = a\n",
    "        self.b = b\n",
    "        \n",
    "    @typedispatch\n",
    "    def add(\n",
    "        self\n",
    "    ) -> (int,float): # Sum of a and b\n",
    "        \"Adds self.a and self.b\"\n",
    "        return self.a + self.b'''"
   ]
  },
  {
   "cell_type": "code",
   "execution_count": null,
   "metadata": {},
   "outputs": [
    {
     "name": "stdout",
     "output_type": "stream",
     "text": [
      "class Arithmetic():\n",
      "    \"\"\"A class that can perform basic arithmetic on ops\"\"\"\n",
      "    _o = 2\n",
      "    _b = 5\n",
      "    _c = 3\n",
      "    class A():\n",
      "        def __init__(self, o):\n",
      "            \"\"\"\n",
      "            Parameters\n",
      "            ----------\n",
      "            o : int\n",
      "              An integer\n",
      "            \"\"\"\n",
      "            self.o = o\n",
      "        \n",
      "    def __init__(self, a, b):\n",
      "        \"\"\"\n",
      "        Parameters\n",
      "        ----------\n",
      "        a : int\n",
      "          The first number to use\n",
      "        b : (int, float)\n",
      "          The second number to use\n",
      "        \"\"\"\n",
      "        self.a = a\n",
      "        self.b = b\n",
      "    \n",
      "    @typedispatch\n",
      "    def add(self):\n",
      "        \"\"\"Adds self.a and self.b\n",
      "    \n",
      "        Returns\n",
      "        -------\n",
      "        (int, float)\n",
      "          Sum of a and b\n",
      "        \"\"\"\n",
      "        return (self.a + self.b)\n",
      "    \n"
     ]
    }
   ],
   "source": [
    "print(reformat_class(source))"
   ]
  },
  {
   "cell_type": "code",
   "execution_count": null,
   "metadata": {},
   "outputs": [],
   "source": [
    "class ExampleClass(object):\n",
    "    \"\"\"The summary line for a class docstring should fit on one line.\n",
    "\n",
    "    If the class has public attributes, they may be documented here\n",
    "    in an ``Attributes`` section and follow the same formatting as a\n",
    "    function's ``Args`` section. Alternatively, attributes may be documented\n",
    "    inline with the attribute's declaration (see __init__ method below).\n",
    "\n",
    "    Properties created with the ``@property`` decorator should be documented\n",
    "    in the property's getter method.\n",
    "\n",
    "    Attributes\n",
    "    ----------\n",
    "    attr1 : str\n",
    "        Description of `attr1`.\n",
    "    attr2 : :obj:`int`, optional\n",
    "        Description of `attr2`.\n",
    "\n",
    "    \"\"\"\n",
    "\n",
    "    def __init__(self, param1, param2, param3):\n",
    "        \"\"\"Example of docstring on the __init__ method.\n",
    "\n",
    "        The __init__ method may be documented in either the class level\n",
    "        docstring, or as a docstring on the __init__ method itself.\n",
    "\n",
    "        Either form is acceptable, but the two should not be mixed. Choose one\n",
    "        convention to document the __init__ method and be consistent with it.\n",
    "\n",
    "        Note\n",
    "        ----\n",
    "        Do not include the `self` parameter in the ``Parameters`` section.\n",
    "\n",
    "        Parameters\n",
    "        ----------\n",
    "        param1 : str\n",
    "            Description of `param1`.\n",
    "        param2 : :obj:`list` of :obj:`str`\n",
    "            Description of `param2`. Multiple\n",
    "            lines are supported.\n",
    "        param3 : :obj:`int`, optional\n",
    "            Description of `param3`.\n",
    "\n",
    "        \"\"\"\n",
    "        self.attr1 = param1\n",
    "        self.attr2 = param2\n",
    "        self.attr3 = param3  #: Doc comment *inline* with attribute\n",
    "\n",
    "        #: list of str: Doc comment *before* attribute, with type specified\n",
    "        self.attr4 = [\"attr4\"]\n",
    "\n",
    "        self.attr5 = None\n",
    "        \"\"\"str: Docstring *after* attribute, with type specified.\"\"\"\n",
    "\n",
    "    @property\n",
    "    def readonly_property(self):\n",
    "        \"\"\"str: Properties should be documented in their getter method.\"\"\"\n",
    "        return \"readonly_property\"\n",
    "\n",
    "    @property\n",
    "    def readwrite_property(self):\n",
    "        \"\"\":obj:`list` of :obj:`str`: Properties with both a getter and setter\n",
    "        should only be documented in their getter method.\n",
    "\n",
    "        If the setter method contains notable behavior, it should be\n",
    "        mentioned here.\n",
    "        \"\"\"\n",
    "        return [\"readwrite_property\"]\n",
    "\n",
    "    @readwrite_property.setter\n",
    "    def readwrite_property(self, value):\n",
    "        value\n",
    "\n",
    "    def example_method(self, param1, param2):\n",
    "        \"\"\"Class methods are similar to regular functions.\n",
    "\n",
    "        Note\n",
    "        ----\n",
    "        Do not include the `self` parameter in the ``Parameters`` section.\n",
    "\n",
    "        Parameters\n",
    "        ----------\n",
    "        param1\n",
    "            The first parameter.\n",
    "        param2\n",
    "            The second parameter.\n",
    "\n",
    "        Returns\n",
    "        -------\n",
    "        bool\n",
    "            True if successful, False otherwise.\n",
    "\n",
    "        \"\"\"\n",
    "        return True\n",
    "\n",
    "    def __special__(self):\n",
    "        \"\"\"By default special members with docstrings are not included.\n",
    "\n",
    "        Special members are any methods or attributes that start with and\n",
    "        end with a double underscore. Any special member with a docstring\n",
    "        will be included in the output, if\n",
    "        ``napoleon_include_special_with_doc`` is set to True.\n",
    "\n",
    "        This behavior can be enabled by changing the following setting in\n",
    "        Sphinx's conf.py::\n",
    "\n",
    "            napoleon_include_special_with_doc = True\n",
    "\n",
    "        \"\"\"\n",
    "        pass\n",
    "\n",
    "    def __special_without_docstring__(self):\n",
    "        pass\n",
    "\n",
    "    def _private(self):\n",
    "        \"\"\"By default private members are not included.\n",
    "\n",
    "        Private members are any methods or attributes that start with an\n",
    "        underscore and are *not* special. By default they are not included\n",
    "        in the output.\n",
    "\n",
    "        This behavior can be changed such that private members *are* included\n",
    "        by changing the following setting in Sphinx's conf.py::\n",
    "\n",
    "            napoleon_include_private_with_doc = True\n",
    "\n",
    "        \"\"\"\n",
    "        pass\n",
    "\n",
    "    def _private_without_docstring(self):\n",
    "        pass"
   ]
  }
 ],
 "metadata": {
  "kernelspec": {
   "display_name": "Python 3",
   "language": "python",
   "name": "python3"
  }
 },
 "nbformat": 4,
 "nbformat_minor": 2
}
