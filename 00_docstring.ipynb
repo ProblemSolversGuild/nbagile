{
 "cells": [
  {
   "cell_type": "code",
   "execution_count": null,
   "metadata": {},
   "outputs": [],
   "source": [
    "# default_exp docstring"
   ]
  },
  {
   "cell_type": "markdown",
   "metadata": {},
   "source": [
    "# Exporting Docstrings\n",
    "\n",
    "> Converts `docment` docstrings to Numpy styled"
   ]
  },
  {
   "cell_type": "code",
   "execution_count": null,
   "metadata": {},
   "outputs": [],
   "source": [
    "#hide\n",
    "from nbdev.showdoc import *"
   ]
  },
  {
   "cell_type": "markdown",
   "metadata": {},
   "source": [
    "The goal of this module is to take code that looks like the following:"
   ]
  },
  {
   "cell_type": "code",
   "execution_count": null,
   "metadata": {},
   "outputs": [],
   "source": [
    "def addition(\n",
    "    a:int, # The first number to add\n",
    "    b:int=2, # The second number to add\n",
    ") -> int: # The sum of a and b\n",
    "    \"Adds two numbers together\"\n",
    "    return a+b"
   ]
  },
  {
   "cell_type": "markdown",
   "metadata": {},
   "source": [
    "And convert it to be the following:"
   ]
  },
  {
   "cell_type": "code",
   "execution_count": null,
   "metadata": {},
   "outputs": [],
   "source": [
    "def addition(a,b) -> int:\n",
    "    \"\"\"Adds two numbers together\n",
    "    \n",
    "    Parameters\n",
    "    ---------\n",
    "    a : int\n",
    "        The first number to add\n",
    "    b : int\n",
    "        The second number to add\n",
    "        \n",
    "    Returns\n",
    "    -------\n",
    "    int\n",
    "        The sum of a and b\n",
    "    \"\"\"\n",
    "    return a + b"
   ]
  },
  {
   "cell_type": "code",
   "execution_count": null,
   "metadata": {},
   "outputs": [],
   "source": [
    "import nbdev.export as exp"
   ]
  },
  {
   "cell_type": "code",
   "execution_count": null,
   "metadata": {},
   "outputs": [],
   "source": [
    "nb = exp.read_nb('99_test.ipynb')"
   ]
  },
  {
   "cell_type": "code",
   "execution_count": null,
   "metadata": {},
   "outputs": [],
   "source": [
    "default = exp.find_default_export(nb['cells'])"
   ]
  },
  {
   "cell_type": "code",
   "execution_count": null,
   "metadata": {},
   "outputs": [],
   "source": [
    "mod = exp.get_nbdev_module()"
   ]
  },
  {
   "cell_type": "code",
   "execution_count": null,
   "metadata": {},
   "outputs": [],
   "source": [
    "exports = [exp.is_export(c, default) for c in nb['cells']]\n",
    "cells = [(i,c,e) for i,(c,e) in enumerate(zip(nb['cells'],exports)) if e is not None]"
   ]
  },
  {
   "cell_type": "code",
   "execution_count": null,
   "metadata": {},
   "outputs": [],
   "source": [
    "flag_lines, code_lines = exp.split_flags_and_code(cells[0][1])"
   ]
  },
  {
   "cell_type": "code",
   "execution_count": null,
   "metadata": {},
   "outputs": [],
   "source": [
    "code_lines = exp._deal_import(code_lines, 'docstring.py')"
   ]
  },
  {
   "cell_type": "code",
   "execution_count": null,
   "metadata": {},
   "outputs": [
    {
     "data": {
      "text/plain": [
       "['def addition(',\n",
       " '    a:int, # The first number to add',\n",
       " '    b:int, # The second number to add',\n",
       " ') -> int: # The sum of a and b',\n",
       " '    \"Adds two numbers together\"',\n",
       " '    return a+b']"
      ]
     },
     "execution_count": null,
     "metadata": {},
     "output_type": "execute_result"
    }
   ],
   "source": [
    "code_lines"
   ]
  },
  {
   "cell_type": "code",
   "execution_count": null,
   "metadata": {},
   "outputs": [],
   "source": [
    "code = '\\n'*(int(exp.get_config().get('cell_spacing', '1'))+1) + '\\n' + '\\n'.join(code_lines)"
   ]
  },
  {
   "cell_type": "code",
   "execution_count": null,
   "metadata": {},
   "outputs": [],
   "source": [
    "code = '\\n\\n\\ndef addition(\\n    a:int, # The first number to add\\n    b:int, # The second number to add\\n) -> int: # The sum of a and b\\n    \"Adds two numbers together\"\\n    return a+b'"
   ]
  },
  {
   "cell_type": "code",
   "execution_count": null,
   "metadata": {},
   "outputs": [],
   "source": [
    "import fastcore.docments as dments"
   ]
  },
  {
   "cell_type": "code",
   "execution_count": null,
   "metadata": {},
   "outputs": [
    {
     "data": {
      "text/plain": [
       "{'a': 'The first number to add',\n",
       " 'b': 'The second number to add',\n",
       " 'return': 'The sum of a and b'}"
      ]
     },
     "execution_count": null,
     "metadata": {},
     "output_type": "execute_result"
    }
   ],
   "source": [
    "dments.docments(code)"
   ]
  },
  {
   "cell_type": "code",
   "execution_count": null,
   "metadata": {},
   "outputs": [],
   "source": [
    "#export\n",
    "from __future__ import annotations"
   ]
  },
  {
   "cell_type": "code",
   "execution_count": null,
   "metadata": {},
   "outputs": [],
   "source": [
    "source = \"\"\"def addition(\n",
    "    a:(int, float), # The first number to add\n",
    "    # The second number to add\n",
    "    b:int = 2,\n",
    ") -> (int,float): # The sum of a and b\n",
    "    \"Adds two numbers together\"\n",
    "    return a+b\n",
    "\"\"\""
   ]
  },
  {
   "cell_type": "code",
   "execution_count": null,
   "metadata": {},
   "outputs": [],
   "source": [
    "def addition(\n",
    "    a:(int, float), # The first number to add\n",
    "    # The second number to add\n",
    "    b:int = 2,\n",
    ") -> (int, float): # The sum of a and b\n",
    "    \"Adds two numbers together\"\n",
    "    return a+b"
   ]
  },
  {
   "cell_type": "code",
   "execution_count": null,
   "metadata": {},
   "outputs": [
    {
     "data": {
      "text/plain": [
       "{'a': 'The first number to add',\n",
       " 'b': 'The second number to add',\n",
       " 'return': 'The sum of a and b'}"
      ]
     },
     "execution_count": null,
     "metadata": {},
     "output_type": "execute_result"
    }
   ],
   "source": [
    "dments.docments(addition)"
   ]
  },
  {
   "cell_type": "code",
   "execution_count": null,
   "metadata": {},
   "outputs": [],
   "source": [
    "#export\n",
    "def get_annotations(\n",
    "    source:str # Source code of function or class\n",
    "):\n",
    "    \"Extracts the type annotations from source code\"\n",
    "    annos = []\n",
    "    orig = list(locals().keys())\n",
    "    exec(source);\n",
    "    new = list(locals().keys())\n",
    "    orig += ['new', 'orig']\n",
    "    new += ['new']\n",
    "    for key in set(new) - set(orig):\n",
    "        params = inspect.signature(locals()[key]).parameters.keys()\n",
    "        param_args = []\n",
    "        for param in params:\n",
    "            param_args.append(inspect.signature(locals()[key]).parameters[param].default)\n",
    "        return_anno = inspect.signature(locals()[key]).return_annotation\n",
    "        annos.append((\n",
    "            locals()[key].__annotations__, \n",
    "            locals()[key].__doc__,\n",
    "            param_args,\n",
    "            return_anno\n",
    "        ))\n",
    "        del locals()[key]\n",
    "    if len(annos) == 1: return annos[0]\n",
    "    else: return annos"
   ]
  },
  {
   "cell_type": "code",
   "execution_count": null,
   "metadata": {},
   "outputs": [],
   "source": [
    "#export\n",
    "def reformat_function(\n",
    "    source:str, # Source code\n",
    "):\n",
    "    \"Takes messy source code and refactors it into a readable PEP-8 standard style\"\n",
    "    docs = dments.docments(source)\n",
    "    annos = get_annotations(source)\n",
    "    param_locs = dments._param_locs(source)\n",
    "    new_source = ''\n",
    "    new_source += source.split('\\n')[0]\n",
    "    for i, (name, default) in enumerate(zip(annos[0].keys(), annos[2])):\n",
    "        new_source += f'{name}'\n",
    "        if default != inspect._empty:\n",
    "            new_source += f'={default}'\n",
    "        if i < len(annos[2])-1:\n",
    "            new_source += ','\n",
    "        else:\n",
    "            new_source += '):'\n",
    "    new_source.rstrip(',')\n",
    "    _ds = '    '\n",
    "    new_source += f'\\n{_ds}\"\"\"\\n{_ds}'\n",
    "    new_source += f'{annos[1]}\\n\\n'\n",
    "    new_source += f'{_ds}Parameters\\n{_ds}----------\\n'\n",
    "    for param in param_locs.values():\n",
    "        if param != 'return':\n",
    "            new_source += f'{_ds}{param} : {annos[0][param]}\\n\\t'\n",
    "            new_source += docs[param] + '\\n'\n",
    "    if annos[-1] != inspect._empty:\n",
    "        new_source += f'\\n{_ds}Returns:\\n{_ds}--------\\n'\n",
    "        new_source += f'{_ds}{annos[-1]}\\n\\t{docs[\"return\"]}\\n'\n",
    "    new_source += f'{_ds}\"\"\"'\n",
    "    new_source += source.split('\"')[-1]\n",
    "    new_source = new_source.rstrip('\\n')\n",
    "    return new_source"
   ]
  },
  {
   "cell_type": "code",
   "execution_count": null,
   "metadata": {},
   "outputs": [],
   "source": [
    "class Adder:\n",
    "    a = 2\n",
    "    b = 5\n",
    "    def __init__(\n",
    "        self,\n",
    "        a:int, # A starting value\n",
    "        b:(int,float), # A number to add by\n",
    "    ):\n",
    "        \"Test\"\n",
    "        self.a = a\n",
    "        self.b = b\n",
    "        \n",
    "    def add(self):\n",
    "        \"Adds self.a and self.b\"\n",
    "        return self.a + self.b"
   ]
  },
  {
   "cell_type": "code",
   "execution_count": null,
   "metadata": {},
   "outputs": [],
   "source": [
    "source = \"\"\"class Adder:\n",
    "    def __init__(\n",
    "        self,\n",
    "        a:int, # A starting value\n",
    "        b:(int,float), # A number to add by\n",
    "    ):\n",
    "        \"Test\"\n",
    "        self.a = a\n",
    "        self.b = b\n",
    "        \n",
    "    def add(self):\n",
    "        \"Adds self.a and self.b\"\n",
    "        return self.a + self.b\"\"\""
   ]
  },
  {
   "cell_type": "code",
   "execution_count": null,
   "metadata": {},
   "outputs": [
    {
     "data": {
      "text/plain": [
       "['__class__',\n",
       " '__delattr__',\n",
       " '__dict__',\n",
       " '__dir__',\n",
       " '__doc__',\n",
       " '__eq__',\n",
       " '__format__',\n",
       " '__ge__',\n",
       " '__getattribute__',\n",
       " '__gt__',\n",
       " '__hash__',\n",
       " '__init__',\n",
       " '__init_subclass__',\n",
       " '__le__',\n",
       " '__lt__',\n",
       " '__module__',\n",
       " '__ne__',\n",
       " '__new__',\n",
       " '__reduce__',\n",
       " '__reduce_ex__',\n",
       " '__repr__',\n",
       " '__setattr__',\n",
       " '__sizeof__',\n",
       " '__str__',\n",
       " '__subclasshook__',\n",
       " '__weakref__',\n",
       " '_attributes',\n",
       " '_fields',\n",
       " 'bases',\n",
       " 'body',\n",
       " 'col_offset',\n",
       " 'decorator_list',\n",
       " 'keywords',\n",
       " 'lineno',\n",
       " 'name']"
      ]
     },
     "execution_count": null,
     "metadata": {},
     "output_type": "execute_result"
    }
   ],
   "source": [
    "import ast\n",
    "dir(ast.parse(source).body[0])"
   ]
  },
  {
   "cell_type": "code",
   "execution_count": null,
   "metadata": {},
   "outputs": [
    {
     "data": {
      "text/plain": [
       "[]"
      ]
     },
     "execution_count": null,
     "metadata": {},
     "output_type": "execute_result"
    }
   ],
   "source": [
    "ast.parse(source).body[0]"
   ]
  },
  {
   "cell_type": "code",
   "execution_count": null,
   "metadata": {},
   "outputs": [
    {
     "data": {
      "text/plain": [
       "'__init__'"
      ]
     },
     "execution_count": null,
     "metadata": {},
     "output_type": "execute_result"
    }
   ],
   "source": [
    "ast.parse(source).body[0].body[0].name"
   ]
  },
  {
   "cell_type": "code",
   "execution_count": null,
   "metadata": {},
   "outputs": [],
   "source": [
    "import asttokens"
   ]
  },
  {
   "cell_type": "code",
   "execution_count": null,
   "metadata": {},
   "outputs": [],
   "source": [
    "atok = asttokens.ASTTokens(source, parse=True)"
   ]
  },
  {
   "cell_type": "code",
   "execution_count": null,
   "metadata": {},
   "outputs": [],
   "source": [
    "num_funcs = sum(isinstance(exp, ast.FunctionDef) for exp in nodes)"
   ]
  },
  {
   "cell_type": "code",
   "execution_count": null,
   "metadata": {},
   "outputs": [
    {
     "name": "stdout",
     "output_type": "stream",
     "text": [
      "Line: class Adder:\n",
      "    def __init__(\n",
      "        self,\n",
      "        a:int, # A starting value\n",
      "        b:(int,float), # A number to add by\n",
      "    ):\n",
      "        \"Test\"\n",
      "        self.a = a\n",
      "        self.b = b\n",
      "        \n",
      "    def add(self):\n",
      "        \"Adds self.a and self.b\"\n",
      "        return self.a + self.b\n",
      "Line: class Adder:\n",
      "    def __init__(\n",
      "        self,\n",
      "        a:int, # A starting value\n",
      "        b:(int,float), # A number to add by\n",
      "    ):\n",
      "        \"Test\"\n",
      "        self.a = a\n",
      "        self.b = b\n",
      "        \n",
      "    def add(self):\n",
      "        \"Adds self.a and self.b\"\n",
      "        return self.a + self.b\n",
      "Line: self,\n",
      "        a:int, # A starting value\n",
      "        b:(int,float)\n",
      "Line: self\n",
      "Line: \n",
      "Line: \n",
      "Line: \n",
      "Line: \n",
      "Line: \n",
      "Line: \n",
      "Line: \n",
      "Line: \n",
      "Line: \n",
      "Line: \n",
      "Line: \n",
      "Line: \n",
      "Line: \n",
      "Line: \n",
      "Line: \n"
     ]
    }
   ],
   "source": [
    "sources = []\n",
    "func_line_nos = []\n",
    "curr_func_source = []\n",
    "curr_func = 0\n",
    "line_nums = []\n",
    "for i, node in enumerate(ast.walk(atok.tree)):\n",
    "    if isinstance(node, ast.FunctionDef):\n",
    "        func_line_nos.append(node.lineno)\n",
    "    else:\n",
    "        if len(func_line_nos) > 0 and hasattr(node, 'lineno'):\n",
    "            if node.lineno > func_line_nos[curr_func]: # If the current line number is larger than the definition line number\n",
    "#                 print(node.lineno, func_line_nos[curr_func])\n",
    "                # Check if we need to move to the next function\n",
    "                if curr_func + 1 < len(func_line_nos):\n",
    "                    if node.lineno < func_line_nos[curr_func+1]:\n",
    "                        # If we're between the next function definition\n",
    "                        if node.lineno not in line_nums:\n",
    "#                             print(\"B\")\n",
    "                            curr_func_source.append(atok.get_text(node))\n",
    "                            line_nums.append(node.lineno)\n",
    "                    else:\n",
    "#                         print(\"C\")\n",
    "                        sources.append(curr_func_source)\n",
    "                        curr_func_source = []\n",
    "                        curr_func += 1\n",
    "                elif node.lineno > func_line_nos[curr_func]:\n",
    "                    if node.lineno not in line_nums:\n",
    "                        curr_func_source.append(atok.get_text(node))\n",
    "                        line_nums.append(node.lineno)\n",
    "                \n",
    "            elif curr_func == len(func_line_nos) - 1:\n",
    "                if node.lineno not in line_nums:\n",
    "                    curr_func_source.append(atok.get_text(node))\n",
    "                    line_nums.append(node.lineno)"
   ]
  },
  {
   "cell_type": "code",
   "execution_count": null,
   "metadata": {},
   "outputs": [
    {
     "data": {
      "text/plain": [
       "[['\"Test\"', 'self.a = a', 'self.b = b']]"
      ]
     },
     "execution_count": null,
     "metadata": {},
     "output_type": "execute_result"
    }
   ],
   "source": [
    "sources"
   ]
  },
  {
   "cell_type": "code",
   "execution_count": null,
   "metadata": {},
   "outputs": [
    {
     "data": {
      "text/plain": [
       "[2, 11]"
      ]
     },
     "execution_count": null,
     "metadata": {},
     "output_type": "execute_result"
    }
   ],
   "source": [
    "func_line_nos"
   ]
  },
  {
   "cell_type": "code",
   "execution_count": null,
   "metadata": {},
   "outputs": [
    {
     "data": {
      "text/plain": [
       "['return self.a + self.b',\n",
       " 'self',\n",
       " 'a:int',\n",
       " 'b:(int,float)',\n",
       " 'self',\n",
       " '\"Adds self.a and self.b\"']"
      ]
     },
     "execution_count": null,
     "metadata": {},
     "output_type": "execute_result"
    }
   ],
   "source": [
    "curr_func_source"
   ]
  },
  {
   "cell_type": "code",
   "execution_count": null,
   "metadata": {},
   "outputs": [
    {
     "data": {
      "text/plain": [
       "[]"
      ]
     },
     "execution_count": null,
     "metadata": {},
     "output_type": "execute_result"
    }
   ],
   "source": [
    "line_nums"
   ]
  },
  {
   "cell_type": "code",
   "execution_count": null,
   "metadata": {},
   "outputs": [
    {
     "data": {
      "text/plain": [
       "1"
      ]
     },
     "execution_count": null,
     "metadata": {},
     "output_type": "execute_result"
    }
   ],
   "source": [
    "curr_func"
   ]
  },
  {
   "cell_type": "code",
   "execution_count": null,
   "metadata": {},
   "outputs": [
    {
     "data": {
      "text/plain": [
       "['\"Adds self.a and self.b\"',\n",
       " 'return self.a + self.b',\n",
       " '\"Adds self.a and self.b\"',\n",
       " 'self.a + self.b',\n",
       " 'self.a',\n",
       " 'self.b',\n",
       " 'self',\n",
       " 'self']"
      ]
     },
     "execution_count": null,
     "metadata": {},
     "output_type": "execute_result"
    }
   ],
   "source": [
    "source = \"\"\"class Adder:\n",
    "    def __init__(\n",
    "        self,\n",
    "        a:int, # A starting value\n",
    "        b:(int,float), # A number to add by\n",
    "    ):\n",
    "        \"Test\"\n",
    "        self.a = a\n",
    "        self.b = b\n",
    "        \n",
    "    def add(self):\n",
    "        \"Adds self.a and self.b\"\n",
    "        return self.a + self.b\"\"\""
   ]
  },
  {
   "cell_type": "code",
   "execution_count": null,
   "metadata": {},
   "outputs": [
    {
     "data": {
      "text/plain": [
       "[]"
      ]
     },
     "execution_count": null,
     "metadata": {},
     "output_type": "execute_result"
    }
   ],
   "source": [
    "curr_func_source"
   ]
  },
  {
   "cell_type": "code",
   "execution_count": null,
   "metadata": {},
   "outputs": [
    {
     "data": {
      "text/plain": [
       "8"
      ]
     },
     "execution_count": null,
     "metadata": {},
     "output_type": "execute_result"
    }
   ],
   "source": [
    "nodes[1].value.lineno"
   ]
  },
  {
   "cell_type": "code",
   "execution_count": null,
   "metadata": {},
   "outputs": [
    {
     "data": {
      "text/plain": [
       "['__class__',\n",
       " '__delattr__',\n",
       " '__dict__',\n",
       " '__dir__',\n",
       " '__doc__',\n",
       " '__eq__',\n",
       " '__format__',\n",
       " '__ge__',\n",
       " '__getattribute__',\n",
       " '__gt__',\n",
       " '__hash__',\n",
       " '__init__',\n",
       " '__init_subclass__',\n",
       " '__le__',\n",
       " '__lt__',\n",
       " '__module__',\n",
       " '__ne__',\n",
       " '__new__',\n",
       " '__reduce__',\n",
       " '__reduce_ex__',\n",
       " '__repr__',\n",
       " '__setattr__',\n",
       " '__sizeof__',\n",
       " '__str__',\n",
       " '__subclasshook__',\n",
       " '__weakref__',\n",
       " '_attributes',\n",
       " '_fields',\n",
       " 'col_offset',\n",
       " 'ctx',\n",
       " 'first_token',\n",
       " 'id',\n",
       " 'last_token',\n",
       " 'lineno']"
      ]
     },
     "execution_count": null,
     "metadata": {},
     "output_type": "execute_result"
    }
   ],
   "source": [
    "dir(nodes[-1])"
   ]
  },
  {
   "cell_type": "code",
   "execution_count": null,
   "metadata": {},
   "outputs": [
    {
     "name": "stdout",
     "output_type": "stream",
     "text": [
      "Help on function dis in module dis:\n",
      "\n",
      "dis(x=None, *, file=None, depth=None)\n",
      "    Disassemble classes, methods, functions, and other compiled objects.\n",
      "    \n",
      "    With no argument, disassemble the last traceback.\n",
      "    \n",
      "    Compiled objects currently include generator objects, async generator\n",
      "    objects, and coroutine objects, all of which store their code object\n",
      "    in a special attribute.\n",
      "\n"
     ]
    }
   ],
   "source": [
    "help(dis.dis)"
   ]
  },
  {
   "cell_type": "code",
   "execution_count": null,
   "metadata": {},
   "outputs": [
    {
     "name": "stdout",
     "output_type": "stream",
     "text": [
      "  1           0 LOAD_BUILD_CLASS\n",
      "              2 LOAD_CONST               0 (<code object Adder at 0x7ff1bba209c0, file \"<dis>\", line 1>)\n",
      "              4 LOAD_CONST               1 ('Adder')\n",
      "              6 MAKE_FUNCTION            0\n",
      "              8 LOAD_CONST               1 ('Adder')\n",
      "             10 CALL_FUNCTION            2\n",
      "             12 STORE_NAME               0 (Adder)\n",
      "             14 LOAD_CONST               2 (None)\n",
      "             16 RETURN_VALUE\n",
      "\n",
      "Disassembly of <code object Adder at 0x7ff1bba209c0, file \"<dis>\", line 1>:\n",
      "  1           0 LOAD_NAME                0 (__name__)\n",
      "              2 STORE_NAME               1 (__module__)\n",
      "              4 LOAD_CONST               0 ('Adder')\n",
      "              6 STORE_NAME               2 (__qualname__)\n",
      "\n",
      "  4           8 LOAD_NAME                3 (int)\n",
      "\n",
      "  5          10 LOAD_NAME                3 (int)\n",
      "             12 LOAD_NAME                4 (float)\n",
      "             14 BUILD_TUPLE              2\n",
      "             16 LOAD_CONST               1 (('a', 'b'))\n",
      "             18 BUILD_CONST_KEY_MAP      2\n",
      "             20 LOAD_CONST               2 (<code object __init__ at 0x7ff1bba204b0, file \"<dis>\", line 2>)\n",
      "             22 LOAD_CONST               3 ('Adder.__init__')\n",
      "             24 MAKE_FUNCTION            4\n",
      "             26 STORE_NAME               5 (__init__)\n",
      "\n",
      " 11          28 LOAD_CONST               4 (<code object add at 0x7ff1bba20ae0, file \"<dis>\", line 11>)\n",
      "             30 LOAD_CONST               5 ('Adder.add')\n",
      "             32 MAKE_FUNCTION            0\n",
      "             34 STORE_NAME               6 (add)\n",
      "             36 LOAD_CONST               6 (None)\n",
      "             38 RETURN_VALUE\n",
      "\n",
      "Disassembly of <code object __init__ at 0x7ff1bba204b0, file \"<dis>\", line 2>:\n",
      "  8           0 LOAD_FAST                1 (a)\n",
      "              2 LOAD_FAST                0 (self)\n",
      "              4 STORE_ATTR               0 (a)\n",
      "\n",
      "  9           6 LOAD_FAST                2 (b)\n",
      "              8 LOAD_FAST                0 (self)\n",
      "             10 STORE_ATTR               1 (b)\n",
      "             12 LOAD_CONST               1 (None)\n",
      "             14 RETURN_VALUE\n",
      "\n",
      "Disassembly of <code object add at 0x7ff1bba20ae0, file \"<dis>\", line 11>:\n",
      " 13           0 LOAD_FAST                0 (self)\n",
      "              2 LOAD_ATTR                0 (a)\n",
      "              4 LOAD_FAST                0 (self)\n",
      "              6 LOAD_ATTR                1 (b)\n",
      "              8 BINARY_ADD\n",
      "             10 RETURN_VALUE\n"
     ]
    }
   ],
   "source": [
    "dis.dis(x=source)"
   ]
  },
  {
   "cell_type": "code",
   "execution_count": null,
   "metadata": {},
   "outputs": [],
   "source": [
    "decoded"
   ]
  },
  {
   "cell_type": "code",
   "execution_count": null,
   "metadata": {},
   "outputs": [],
   "source": [
    "funcs = ast.parse(source).body[0].body\n",
    "for func in funcs:\n",
    "    if isinstance(func, ast.FunctionDef):\n",
    "        reformat_function()"
   ]
  },
  {
   "cell_type": "code",
   "execution_count": null,
   "metadata": {},
   "outputs": [
    {
     "data": {
      "text/plain": [
       "'add'"
      ]
     },
     "execution_count": null,
     "metadata": {},
     "output_type": "execute_result"
    }
   ],
   "source": [
    "ast.parse(source).body[0].body[1].name"
   ]
  },
  {
   "cell_type": "code",
   "execution_count": null,
   "metadata": {},
   "outputs": [
    {
     "data": {
      "text/plain": [
       "4"
      ]
     },
     "execution_count": null,
     "metadata": {},
     "output_type": "execute_result"
    }
   ],
   "source": [
    "ast.parse(source).body[0].body[1].col_offset # Use this to get the number of spaces in an offset"
   ]
  },
  {
   "cell_type": "code",
   "execution_count": null,
   "metadata": {},
   "outputs": [],
   "source": [
    "#export\n",
    "def reformat_function(\n",
    "    source:str, # Source code\n",
    "):\n",
    "    \"Takes messy source code and refactors it into a readable PEP-8 standard style\"\n",
    "    docs = dments.docments(source)\n",
    "    annos = get_annotations(source)\n",
    "    param_locs = dments._param_locs(source)\n",
    "    new_source = ''\n",
    "    new_source += source.split('\\n')[0]\n",
    "    for i, (name, default) in enumerate(zip(annos[0].keys(), annos[2])):\n",
    "        new_source += f'{name}'\n",
    "        if default != inspect._empty:\n",
    "            new_source += f'={default}'\n",
    "        if i < len(annos[2])-1:\n",
    "            new_source += ','\n",
    "        else:\n",
    "            new_source += '):'\n",
    "    new_source.rstrip(',')\n",
    "    _ds = '    '\n",
    "    new_source += f'\\n{_ds}\"\"\"\\n{_ds}'\n",
    "    new_source += f'{annos[1]}\\n\\n'\n",
    "    new_source += f'{_ds}Parameters\\n{_ds}----------\\n'\n",
    "    for param in param_locs.values():\n",
    "        if param != 'return':\n",
    "            new_source += f'{_ds}{param} : {annos[0][param]}\\n\\t'\n",
    "            new_source += docs[param] + '\\n'\n",
    "    if annos[-1] != inspect._empty:\n",
    "        new_source += f'\\n{_ds}Returns:\\n{_ds}--------\\n'\n",
    "        new_source += f'{_ds}{annos[-1]}\\n\\t{docs[\"return\"]}\\n'\n",
    "    new_source += f'{_ds}\"\"\"'\n",
    "    new_source += source.split('\"')[-1]\n",
    "    new_source = new_source.rstrip('\\n')\n",
    "    return new_source"
   ]
  },
  {
   "cell_type": "code",
   "execution_count": null,
   "metadata": {},
   "outputs": [],
   "source": []
  },
  {
   "cell_type": "code",
   "execution_count": null,
   "metadata": {},
   "outputs": [],
   "source": []
  },
  {
   "cell_type": "code",
   "execution_count": null,
   "metadata": {},
   "outputs": [
    {
     "data": {
      "text/plain": [
       "{'self': None, 'a': 'A starting value', 'b': 'A number to add by'}"
      ]
     },
     "execution_count": null,
     "metadata": {},
     "output_type": "execute_result"
    }
   ],
   "source": [
    "dments.docments(Adder)"
   ]
  },
  {
   "cell_type": "code",
   "execution_count": null,
   "metadata": {},
   "outputs": [],
   "source": [
    "class Subtracter(Adder):\n",
    "    def subtract(self):\n",
    "        \"Subtracts self.a and self.b\"\n",
    "        return self.a - self.b"
   ]
  },
  {
   "cell_type": "markdown",
   "metadata": {},
   "source": [
    "For classes we'll need to extract functions and constants, and only reformat the functions in each class"
   ]
  },
  {
   "cell_type": "code",
   "execution_count": null,
   "metadata": {},
   "outputs": [],
   "source": [
    "class ExampleClass(object):\n",
    "    \"\"\"The summary line for a class docstring should fit on one line.\n",
    "\n",
    "    If the class has public attributes, they may be documented here\n",
    "    in an ``Attributes`` section and follow the same formatting as a\n",
    "    function's ``Args`` section. Alternatively, attributes may be documented\n",
    "    inline with the attribute's declaration (see __init__ method below).\n",
    "\n",
    "    Properties created with the ``@property`` decorator should be documented\n",
    "    in the property's getter method.\n",
    "\n",
    "    Attributes\n",
    "    ----------\n",
    "    attr1 : str\n",
    "        Description of `attr1`.\n",
    "    attr2 : :obj:`int`, optional\n",
    "        Description of `attr2`.\n",
    "\n",
    "    \"\"\"\n",
    "\n",
    "    def __init__(self, param1, param2, param3):\n",
    "        \"\"\"Example of docstring on the __init__ method.\n",
    "\n",
    "        The __init__ method may be documented in either the class level\n",
    "        docstring, or as a docstring on the __init__ method itself.\n",
    "\n",
    "        Either form is acceptable, but the two should not be mixed. Choose one\n",
    "        convention to document the __init__ method and be consistent with it.\n",
    "\n",
    "        Note\n",
    "        ----\n",
    "        Do not include the `self` parameter in the ``Parameters`` section.\n",
    "\n",
    "        Parameters\n",
    "        ----------\n",
    "        param1 : str\n",
    "            Description of `param1`.\n",
    "        param2 : :obj:`list` of :obj:`str`\n",
    "            Description of `param2`. Multiple\n",
    "            lines are supported.\n",
    "        param3 : :obj:`int`, optional\n",
    "            Description of `param3`.\n",
    "\n",
    "        \"\"\"\n",
    "        self.attr1 = param1\n",
    "        self.attr2 = param2\n",
    "        self.attr3 = param3  #: Doc comment *inline* with attribute\n",
    "\n",
    "        #: list of str: Doc comment *before* attribute, with type specified\n",
    "        self.attr4 = [\"attr4\"]\n",
    "\n",
    "        self.attr5 = None\n",
    "        \"\"\"str: Docstring *after* attribute, with type specified.\"\"\"\n",
    "\n",
    "    @property\n",
    "    def readonly_property(self):\n",
    "        \"\"\"str: Properties should be documented in their getter method.\"\"\"\n",
    "        return \"readonly_property\"\n",
    "\n",
    "    @property\n",
    "    def readwrite_property(self):\n",
    "        \"\"\":obj:`list` of :obj:`str`: Properties with both a getter and setter\n",
    "        should only be documented in their getter method.\n",
    "\n",
    "        If the setter method contains notable behavior, it should be\n",
    "        mentioned here.\n",
    "        \"\"\"\n",
    "        return [\"readwrite_property\"]\n",
    "\n",
    "    @readwrite_property.setter\n",
    "    def readwrite_property(self, value):\n",
    "        value\n",
    "\n",
    "    def example_method(self, param1, param2):\n",
    "        \"\"\"Class methods are similar to regular functions.\n",
    "\n",
    "        Note\n",
    "        ----\n",
    "        Do not include the `self` parameter in the ``Parameters`` section.\n",
    "\n",
    "        Parameters\n",
    "        ----------\n",
    "        param1\n",
    "            The first parameter.\n",
    "        param2\n",
    "            The second parameter.\n",
    "\n",
    "        Returns\n",
    "        -------\n",
    "        bool\n",
    "            True if successful, False otherwise.\n",
    "\n",
    "        \"\"\"\n",
    "        return True\n",
    "\n",
    "    def __special__(self):\n",
    "        \"\"\"By default special members with docstrings are not included.\n",
    "\n",
    "        Special members are any methods or attributes that start with and\n",
    "        end with a double underscore. Any special member with a docstring\n",
    "        will be included in the output, if\n",
    "        ``napoleon_include_special_with_doc`` is set to True.\n",
    "\n",
    "        This behavior can be enabled by changing the following setting in\n",
    "        Sphinx's conf.py::\n",
    "\n",
    "            napoleon_include_special_with_doc = True\n",
    "\n",
    "        \"\"\"\n",
    "        pass\n",
    "\n",
    "    def __special_without_docstring__(self):\n",
    "        pass\n",
    "\n",
    "    def _private(self):\n",
    "        \"\"\"By default private members are not included.\n",
    "\n",
    "        Private members are any methods or attributes that start with an\n",
    "        underscore and are *not* special. By default they are not included\n",
    "        in the output.\n",
    "\n",
    "        This behavior can be changed such that private members *are* included\n",
    "        by changing the following setting in Sphinx's conf.py::\n",
    "\n",
    "            napoleon_include_private_with_doc = True\n",
    "\n",
    "        \"\"\"\n",
    "        pass\n",
    "\n",
    "    def _private_without_docstring(self):\n",
    "        pass"
   ]
  }
 ],
 "metadata": {
  "kernelspec": {
   "display_name": "Python 3",
   "language": "python",
   "name": "python3"
  }
 },
 "nbformat": 4,
 "nbformat_minor": 2
}
